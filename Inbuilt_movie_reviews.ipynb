{
 "cells": [
  {
   "cell_type": "code",
   "execution_count": 10,
   "id": "c7ef92c5",
   "metadata": {},
   "outputs": [],
   "source": [
    "#Importing all the required libraries\n",
    "import nltk.classify.util\n",
    "from nltk.classify import NaiveBayesClassifier\n",
    "from nltk.corpus import movie_reviews"
   ]
  },
  {
   "cell_type": "code",
   "execution_count": 14,
   "id": "0ca9e618",
   "metadata": {},
   "outputs": [
    {
     "name": "stderr",
     "output_type": "stream",
     "text": [
      "[nltk_data] Downloading package movie_reviews to\n",
      "[nltk_data]     /Users/pratik/nltk_data...\n",
      "[nltk_data]   Package movie_reviews is already up-to-date!\n"
     ]
    },
    {
     "data": {
      "text/plain": [
       "True"
      ]
     },
     "execution_count": 14,
     "metadata": {},
     "output_type": "execute_result"
    }
   ],
   "source": [
    "import nltk\n",
    "nltk.download('movie_reviews')"
   ]
  },
  {
   "cell_type": "code",
   "execution_count": 15,
   "id": "adb1f9a4",
   "metadata": {},
   "outputs": [],
   "source": [
    "#This is basically setting the value true for each word in word_list\n",
    "def extract_features(listofwords):\n",
    "    return dict([(word, True) for word in listofwords])\n"
   ]
  },
  {
   "cell_type": "code",
   "execution_count": 16,
   "id": "24f2dd91",
   "metadata": {},
   "outputs": [],
   "source": [
    "if __name__=='__main__':\n",
    "    #separating postive and negative reviews as corresponding to pos and neg\n",
    "    positive_fileids = movie_reviews.fileids('pos')\n",
    "    negative_fileids = movie_reviews.fileids('neg')\n",
    "\n",
    "    "
   ]
  },
  {
   "cell_type": "code",
   "execution_count": 18,
   "id": "f7cd7d44",
   "metadata": {},
   "outputs": [],
   "source": [
    "#setting up the tuple of positive and negative keys\n",
    "features_positive = [(extract_features(movie_reviews.words(fileids=[f])),'Positive') for f in positive_fileids]\n",
    "features_negative = [(extract_features(movie_reviews.words(fileids=[f])),'Negative') for f in negative_fileids]"
   ]
  },
  {
   "cell_type": "code",
   "execution_count": 19,
   "id": "4d18c189",
   "metadata": {},
   "outputs": [],
   "source": [
    "# Split the data into train and test (80/20)\n",
    "threshold_factor = 0.8\n",
    "threshold_positive = int(threshold_factor * len(features_positive))\n",
    "threshold_negative = int(threshold_factor * len(features_negative))"
   ]
  },
  {
   "cell_type": "code",
   "execution_count": 21,
   "id": "ff8562b2",
   "metadata": {},
   "outputs": [],
   "source": [
    "#training the data values train and test\n",
    "\n",
    "features_train = features_positive[:threshold_positive]+features_negative[:threshold_negative]\n",
    "features_test = features_positive[threshold_positive:]+features_negative[threshold_negative:]\n"
   ]
  },
  {
   "cell_type": "code",
   "execution_count": 23,
   "id": "e239fa9a",
   "metadata": {},
   "outputs": [
    {
     "name": "stdout",
     "output_type": "stream",
     "text": [
      "Accuracy we got from the NaiveBayesClassifier :  0.735\n"
     ]
    }
   ],
   "source": [
    "#used of the naivebayesclassifier\n",
    "classifier = NaiveBayesClassifier.train(features_train)\n",
    "print(\"Accuracy we got from the NaiveBayesClassifier : \", nltk.classify.util.accuracy(classifier, features_test))"
   ]
  },
  {
   "cell_type": "code",
   "execution_count": 29,
   "id": "afef4a5c",
   "metadata": {},
   "outputs": [],
   "source": [
    "#Sample input reviews\n",
    "input_reviews = [\n",
    "    \"Started off as the greatest series of all time, but had the worst ending of all time.\",\n",
    "    \"Exquisite. 'Big Little Lies' takes us to an incredible journey with its emotional and intriguing storyline.\",\n",
    "    \"I love Brooklyn 99 so much. It has the best crew ever!!\",\n",
    "    \"The Big Bang Theory and to me it's one of the best written sitcoms currently on network TV.\",\n",
    "    \"'Friends' is simply the best series ever aired. The acting is amazing.\",\n",
    "    \"SUITS is smart, sassy, clever, sophisticated, timely and immensely entertaining!\",\n",
    "    \"Cumberbatch is a fantastic choice for Sherlock Holmes-he is physically right (he fits the traditional reading of the character) and he is a damn good actor\",\n",
    "    \"What sounds like a typical agent hunting serial killer, surprises with great characters, surprising turning points and amazing cast.\"\n",
    "    \"This is one of the most magical things I have ever had the fortune of viewing.\",\n",
    "    \"I don't recommend watching this at all!\",\n",
    "    \"Not much good part but ending was amazing\",\n",
    "    \"This is okay movie for begineer\",\n",
    "    \"More graphics is expected for great view\"\n",
    "]"
   ]
  },
  {
   "cell_type": "code",
   "execution_count": 30,
   "id": "72c2b514",
   "metadata": {},
   "outputs": [
    {
     "name": "stdout",
     "output_type": "stream",
     "text": [
      "Predictions: \n",
      "\n",
      "Review: Started off as the greatest series of all time, but had the worst ending of all time.\n",
      "Predicted sentiment:  Negative\n",
      "Probability:  0.64\n",
      "\n",
      "Review: Exquisite. 'Big Little Lies' takes us to an incredible journey with its emotional and intriguing storyline.\n",
      "Predicted sentiment:  Positive\n",
      "Probability:  0.89\n",
      "\n",
      "Review: I love Brooklyn 99 so much. It has the best crew ever!!\n",
      "Predicted sentiment:  Negative\n",
      "Probability:  0.51\n",
      "\n",
      "Review: The Big Bang Theory and to me it's one of the best written sitcoms currently on network TV.\n",
      "Predicted sentiment:  Positive\n",
      "Probability:  0.62\n",
      "\n",
      "Review: 'Friends' is simply the best series ever aired. The acting is amazing.\n",
      "Predicted sentiment:  Positive\n",
      "Probability:  0.55\n",
      "\n",
      "Review: SUITS is smart, sassy, clever, sophisticated, timely and immensely entertaining!\n",
      "Predicted sentiment:  Positive\n",
      "Probability:  0.82\n",
      "\n",
      "Review: Cumberbatch is a fantastic choice for Sherlock Holmes-he is physically right (he fits the traditional reading of the character) and he is a damn good actor\n",
      "Predicted sentiment:  Positive\n",
      "Probability:  1.0\n",
      "\n",
      "Review: What sounds like a typical agent hunting serial killer, surprises with great characters, surprising turning points and amazing cast.This is one of the most magical things I have ever had the fortune of viewing.\n",
      "Predicted sentiment:  Positive\n",
      "Probability:  0.95\n",
      "\n",
      "Review: I don't recommend watching this at all!\n",
      "Predicted sentiment:  Negative\n",
      "Probability:  0.53\n",
      "\n",
      "Review: Not much good part but ending was amazing\n",
      "Predicted sentiment:  Positive\n",
      "Probability:  0.71\n",
      "\n",
      "Review: This is okay movie for begineer\n",
      "Predicted sentiment:  Negative\n",
      "Probability:  0.54\n",
      "\n",
      "Review: More graphics is expected for great view\n",
      "Predicted sentiment:  Positive\n",
      "Probability:  0.62\n"
     ]
    }
   ],
   "source": [
    "print(\"Predictions: \")\n",
    "\n",
    "for review in input_reviews:\n",
    "    print(\"\\nReview:\", review)\n",
    "    probdist = classifier.prob_classify(extract_features(review.split()))\n",
    "    pred_sentiment = probdist.max()\n",
    "    print(\"Predicted sentiment: \", pred_sentiment)\n",
    "    print(\"Probability: \", round(probdist.prob(pred_sentiment), 2))"
   ]
  },
  {
   "cell_type": "code",
   "execution_count": null,
   "id": "29f18fec",
   "metadata": {},
   "outputs": [],
   "source": []
  }
 ],
 "metadata": {
  "kernelspec": {
   "display_name": "Python 3",
   "language": "python",
   "name": "python3"
  },
  "language_info": {
   "codemirror_mode": {
    "name": "ipython",
    "version": 3
   },
   "file_extension": ".py",
   "mimetype": "text/x-python",
   "name": "python",
   "nbconvert_exporter": "python",
   "pygments_lexer": "ipython3",
   "version": "3.8.13"
  }
 },
 "nbformat": 4,
 "nbformat_minor": 5
}
