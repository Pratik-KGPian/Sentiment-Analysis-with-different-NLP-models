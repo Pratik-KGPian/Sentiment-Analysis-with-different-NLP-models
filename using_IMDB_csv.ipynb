{
 "cells": [
  {
   "cell_type": "code",
   "execution_count": 62,
   "id": "60c8acb3",
   "metadata": {},
   "outputs": [],
   "source": [
    "#Importing all the required libraries\n",
    "import nltk.classify.util\n",
    "from nltk.classify import NaiveBayesClassifier\n",
    "#from nltk.corpus import movie_reviews"
   ]
  },
  {
   "cell_type": "code",
   "execution_count": 63,
   "id": "ffb2464f",
   "metadata": {},
   "outputs": [],
   "source": [
    "#importing panda and reading csv -note: here path should be according to IMDB.csv present\n",
    "import pandas as pd \n",
    "df=pd.read_csv('/Users/pratik/Desktop/Sentiment_Analysis/IMDB.csv')"
   ]
  },
  {
   "cell_type": "code",
   "execution_count": 64,
   "id": "54d80949",
   "metadata": {},
   "outputs": [],
   "source": [
    "#This is basically setting the value true for each word in word_list\n",
    "def extract_features(listofwords):\n",
    "    return dict([(word, True) for word in listofwords])\n"
   ]
  },
  {
   "cell_type": "code",
   "execution_count": 65,
   "id": "5dff2a82",
   "metadata": {},
   "outputs": [],
   "source": [
    "if __name__=='__main__':\n",
    "    #separating postive and negative reviews as corresponding to pos and neg\n",
    "    positive_sentences = df.loc[df['sentiment'] == 'positive', 'review'].tolist()\n",
    "    negative_sentences = df.loc[df['sentiment'] == 'negative', 'review'].tolist()\n"
   ]
  },
  {
   "cell_type": "code",
   "execution_count": 66,
   "id": "6de44f85",
   "metadata": {},
   "outputs": [],
   "source": [
    "from nltk.tokenize import word_tokenize\n",
    "\n",
    "# setting up the tuple of positive and negative keys\n",
    "features_positive = [(extract_features(word_tokenize(sentence, \"english\")), 'Positive') for sentence in positive_sentences[:9000]]\n",
    "features_negative = [(extract_features(word_tokenize(sentence, \"english\")), 'Negative') for sentence in negative_sentences[:9000]]\n"
   ]
  },
  {
   "cell_type": "code",
   "execution_count": 67,
   "id": "479e41b5",
   "metadata": {},
   "outputs": [],
   "source": [
    "\n",
    "\n",
    "# Split the data into train and test (80/20)\n",
    "threshold_factor = 0.8\n",
    "threshold_positive = int(threshold_factor * len(features_positive))\n",
    "threshold_negative = int(threshold_factor * len(features_negative))"
   ]
  },
  {
   "cell_type": "code",
   "execution_count": 68,
   "id": "c1157f4f",
   "metadata": {},
   "outputs": [],
   "source": [
    "#training the data values train and test\n",
    "\n",
    "features_train = features_positive[:threshold_positive]+features_negative[:threshold_negative]\n",
    "features_test = features_positive[threshold_positive:]+features_negative[threshold_negative:]\n"
   ]
  },
  {
   "cell_type": "code",
   "execution_count": 69,
   "id": "d810e9f6",
   "metadata": {},
   "outputs": [
    {
     "name": "stdout",
     "output_type": "stream",
     "text": [
      "Accuracy we got from the NaiveBayesClassifier :  0.8441666666666666\n"
     ]
    }
   ],
   "source": [
    "#used of the naivebayesclassifier\n",
    "classifier = NaiveBayesClassifier.train(features_train)\n",
    "print(\"Accuracy we got from the NaiveBayesClassifier : \", nltk.classify.util.accuracy(classifier, features_test))"
   ]
  },
  {
   "cell_type": "code",
   "execution_count": 70,
   "id": "9580f70f",
   "metadata": {},
   "outputs": [],
   "source": [
    "#Sample input reviews\n",
    "input_reviews = [\n",
    "    \"Started off as the greatest series of all time, but had the worst ending of all time.\",\n",
    "    \"Exquisite. 'Big Little Lies' takes us to an incredible journey with its emotional and intriguing storyline.\",\n",
    "    \"I love Brooklyn 99 so much. It has the best crew ever!!\",\n",
    "    \"The Big Bang Theory and to me it's one of the best written sitcoms currently on network TV.\",\n",
    "    \"'Friends' is simply the best series ever aired. The acting is amazing.\",\n",
    "    \"SUITS is smart, sassy, clever, sophisticated, timely and immensely entertaining!\",\n",
    "    \"Cumberbatch is a fantastic choice for Sherlock Holmes-he is physically right (he fits the traditional reading of the character) and he is a damn good actor\",\n",
    "    \"What sounds like a typical agent hunting serial killer, surprises with great characters, surprising turning points and amazing cast.\"\n",
    "    \"This is one of the most magical things I have ever had the fortune of viewing.\",\n",
    "    \"I don't recommend watching this at all!\",\n",
    "    \"Not much good part but ending was amazing\",\n",
    "    \"This is okay movie for begineer\",\n",
    "    \"More graphics is expected for great view\"\n",
    "]"
   ]
  },
  {
   "cell_type": "code",
   "execution_count": 71,
   "id": "61d9f05c",
   "metadata": {},
   "outputs": [
    {
     "name": "stdout",
     "output_type": "stream",
     "text": [
      "Predictions: \n",
      "\n",
      "Review: Started off as the greatest series of all time, but had the worst ending of all time.\n",
      "Predicted sentiment:  Negative\n",
      "Probability:  0.75\n",
      "\n",
      "Review: Exquisite. 'Big Little Lies' takes us to an incredible journey with its emotional and intriguing storyline.\n",
      "Predicted sentiment:  Positive\n",
      "Probability:  0.97\n",
      "\n",
      "Review: I love Brooklyn 99 so much. It has the best crew ever!!\n",
      "Predicted sentiment:  Positive\n",
      "Probability:  0.71\n",
      "\n",
      "Review: The Big Bang Theory and to me it's one of the best written sitcoms currently on network TV.\n",
      "Predicted sentiment:  Positive\n",
      "Probability:  0.54\n",
      "\n",
      "Review: 'Friends' is simply the best series ever aired. The acting is amazing.\n",
      "Predicted sentiment:  Positive\n",
      "Probability:  0.98\n",
      "\n",
      "Review: SUITS is smart, sassy, clever, sophisticated, timely and immensely entertaining!\n",
      "Predicted sentiment:  Positive\n",
      "Probability:  0.91\n",
      "\n",
      "Review: Cumberbatch is a fantastic choice for Sherlock Holmes-he is physically right (he fits the traditional reading of the character) and he is a damn good actor\n",
      "Predicted sentiment:  Positive\n",
      "Probability:  0.99\n",
      "\n",
      "Review: What sounds like a typical agent hunting serial killer, surprises with great characters, surprising turning points and amazing cast.This is one of the most magical things I have ever had the fortune of viewing.\n",
      "Predicted sentiment:  Positive\n",
      "Probability:  0.98\n",
      "\n",
      "Review: I don't recommend watching this at all!\n",
      "Predicted sentiment:  Negative\n",
      "Probability:  0.53\n",
      "\n",
      "Review: Not much good part but ending was amazing\n",
      "Predicted sentiment:  Positive\n",
      "Probability:  0.67\n",
      "\n",
      "Review: This is okay movie for begineer\n",
      "Predicted sentiment:  Negative\n",
      "Probability:  0.7\n",
      "\n",
      "Review: More graphics is expected for great view\n",
      "Predicted sentiment:  Positive\n",
      "Probability:  0.74\n"
     ]
    }
   ],
   "source": [
    "print(\"Predictions: \")\n",
    "\n",
    "for review in input_reviews:\n",
    "    print(\"\\nReview:\", review)\n",
    "    probdist = classifier.prob_classify(extract_features(review.split()))\n",
    "    pred_sentiment = probdist.max()\n",
    "    print(\"Predicted sentiment: \", pred_sentiment)\n",
    "    print(\"Probability: \", round(probdist.prob(pred_sentiment), 2))"
   ]
  }
 ],
 "metadata": {
  "kernelspec": {
   "display_name": "Python 3",
   "language": "python",
   "name": "python3"
  },
  "language_info": {
   "codemirror_mode": {
    "name": "ipython",
    "version": 3
   },
   "file_extension": ".py",
   "mimetype": "text/x-python",
   "name": "python",
   "nbconvert_exporter": "python",
   "pygments_lexer": "ipython3",
   "version": "3.8.13"
  }
 },
 "nbformat": 4,
 "nbformat_minor": 5
}
